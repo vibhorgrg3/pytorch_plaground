{
  "nbformat": 4,
  "nbformat_minor": 0,
  "metadata": {
    "colab": {
      "provenance": []
    },
    "kernelspec": {
      "name": "python3",
      "display_name": "Python 3"
    },
    "language_info": {
      "name": "python"
    }
  },
  "cells": [
    {
      "cell_type": "code",
      "execution_count": 1,
      "metadata": {
        "id": "JVImaahfH0GT"
      },
      "outputs": [],
      "source": [
        "import numpy as np\n",
        "import torch\n",
        "import torch.nn as nn\n",
        "import matplotlib.pyplot as plt"
      ]
    },
    {
      "cell_type": "code",
      "source": [
        "x=[i for i in range(1,100)]\n",
        "y=[]\n",
        "for i in range(len(x)):\n",
        "  temp=x[i]**2\n",
        "  y.append(temp)\n"
      ],
      "metadata": {
        "id": "dvyygtKhH8za"
      },
      "execution_count": 22,
      "outputs": []
    },
    {
      "cell_type": "code",
      "source": [
        "X=np.array(x)\n",
        "Y=np.array(y)\n",
        "Y=np.log(Y)\n",
        "X=np.log(X)"
      ],
      "metadata": {
        "id": "eptzoL36IL_W"
      },
      "execution_count": 23,
      "outputs": []
    },
    {
      "cell_type": "code",
      "source": [
        "plt.scatter(X,Y)\n"
      ],
      "metadata": {
        "colab": {
          "base_uri": "https://localhost:8080/",
          "height": 282
        },
        "id": "XozDP4vEIR0_",
        "outputId": "ae43d9a5-923d-4d14-8dcb-26acdef1f0f9"
      },
      "execution_count": 24,
      "outputs": [
        {
          "output_type": "execute_result",
          "data": {
            "text/plain": [
              "<matplotlib.collections.PathCollection at 0x7f54b6549f90>"
            ]
          },
          "metadata": {},
          "execution_count": 24
        },
        {
          "output_type": "display_data",
          "data": {
            "text/plain": [
              "<Figure size 432x288 with 1 Axes>"
            ],
            "image/png": "[encoded data removed]"
          },
          "metadata": {
            "needs_background": "light"
          }
        }
      ]
    },
    {
      "cell_type": "code",
      "source": [
        "mx=X.mean()\n",
        "sx=X.std()\n",
        "my=Y.mean()\n",
        "sy=Y.std()"
      ],
      "metadata": {
        "id": "0Nfx8y5_uQep"
      },
      "execution_count": 12,
      "outputs": []
    },
    {
      "cell_type": "code",
      "source": [
        "Y=(Y-my)/sy\n",
        "X=(X-mx)/sx"
      ],
      "metadata": {
        "id": "7_kwk09Mugpz"
      },
      "execution_count": 13,
      "outputs": []
    },
    {
      "cell_type": "code",
      "source": [
        "plt.scatter(X,Y)"
      ],
      "metadata": {
        "colab": {
          "base_uri": "https://localhost:8080/",
          "height": 282
        },
        "id": "ljqykaEZunMw",
        "outputId": "b4b6c44a-a8a1-4f85-aac1-e80155680549"
      },
      "execution_count": 25,
      "outputs": [
        {
          "output_type": "execute_result",
          "data": {
            "text/plain": [
              "<matplotlib.collections.PathCollection at 0x7f54b6530e50>"
            ]
          },
          "metadata": {},
          "execution_count": 25
        },
        {
          "output_type": "display_data",
          "data": {
            "text/plain": [
              "<Figure size 432x288 with 1 Axes>"
            ],
            "image/png": "[encoded data removed]"
          },
          "metadata": {
            "needs_background": "light"
          }
        }
      ]
    },
    {
      "cell_type": "code",
      "source": [
        "loss=nn.MSELoss()\n",
        "model=nn.Linear(1,1)\n",
        "optimizer=torch.optim.SGD(model.parameters(),lr=0.1)\n",
        "\n",
        "N=len(X)\n",
        "X=X.reshape(N,1)\n",
        "Y=Y.reshape(N,1)\n",
        "\n"
      ],
      "metadata": {
        "id": "x15iURsLTFrp"
      },
      "execution_count": 26,
      "outputs": []
    },
    {
      "cell_type": "code",
      "source": [
        "inputs=torch.from_numpy(X.astype(np.float32))\n",
        "targets=torch.from_numpy(Y.astype(np.float32))"
      ],
      "metadata": {
        "id": "pn9rgizgT90U"
      },
      "execution_count": 27,
      "outputs": []
    },
    {
      "cell_type": "code",
      "source": [
        "n=30\n",
        "losses=[]\n",
        "for i in range(n):\n",
        "  optimizer.zero_grad()\n",
        "  outputs=model(inputs)\n",
        "  loss_calc=loss(outputs,targets)\n",
        "  losses.append(loss_calc.item())\n",
        "\n",
        "  loss_calc.backward()\n",
        "  optimizer.step()\n",
        "\n",
        "  plt.plot(inputs.detach().numpy(),outputs.detach().numpy())\n",
        "  print(\"loss: \",loss_calc.item())"
      ],
      "metadata": {
        "colab": {
          "base_uri": "https://localhost:8080/",
          "height": 797
        },
        "id": "v0DuzuUcUaw4",
        "outputId": "f60ad2d1-6625-4ddb-cae9-297aa50e58ae"
      },
      "execution_count": 28,
      "outputs": [
        {
          "output_type": "stream",
          "name": "stdout",
          "text": [
            "loss:  118.96562957763672\n",
            "loss:  471.5301208496094\n",
            "loss:  1868.9520263671875\n",
            "loss:  7407.7578125\n",
            "loss:  29361.34375\n",
            "loss:  116376.375\n",
            "loss:  461268.40625\n",
            "loss:  1828279.375\n",
            "loss:  7246550.0\n",
            "loss:  28722388.0\n",
            "loss:  113843848.0\n",
            "loss:  451230496.0\n",
            "loss:  1788492672.0\n",
            "loss:  7088853504.0\n",
            "loss:  28097327104.0\n",
            "loss:  111366316032.0\n",
            "loss:  441410584576.0\n",
            "loss:  1749571862528.0\n",
            "loss:  6934584885248.0\n",
            "loss:  27485871800320.0\n",
            "loss:  108942726266880.0\n",
            "loss:  431804704096256.0\n",
            "loss:  1711497893904384.0\n",
            "loss:  6783685021925376.0\n",
            "loss:  2.6887757993345024e+16\n",
            "loss:  1.0657214020714496e+17\n",
            "loss:  4.2240869353180365e+17\n",
            "loss:  1.6742561798674186e+18\n",
            "loss:  6.636069444093215e+18\n",
            "loss:  2.6302673290308616e+19\n"
          ]
        },
        {
          "output_type": "display_data",
          "data": {
            "text/plain": [
              "<Figure size 432x288 with 1 Axes>"
            ],
            "image/png": "[encoded data removed]"
          },
          "metadata": {
            "needs_background": "light"
          }
        }
      ]
    },
    {
      "cell_type": "code",
      "source": [
        "plt.plot(losses)"
      ],
      "metadata": {
        "colab": {
          "base_uri": "https://localhost:8080/",
          "height": 293
        },
        "id": "py-ckEZMVJbn",
        "outputId": "2f59fa66-c14b-402c-c92e-75088f260ffd"
      },
      "execution_count": 29,
      "outputs": [
        {
          "output_type": "execute_result",
          "data": {
            "text/plain": [
              "[<matplotlib.lines.Line2D at 0x7f54b638a7d0>]"
            ]
          },
          "metadata": {},
          "execution_count": 29
        },
        {
          "output_type": "display_data",
          "data": {
            "text/plain": [
              "<Figure size 432x288 with 1 Axes>"
            ],
            "image/png": "[encoded data removed]"
          },
          "metadata": {
            "needs_background": "light"
          }
        }
      ]
    },
    {
      "cell_type": "code",
      "source": [
        "plt.plot(inputs.detach().numpy(),outputs.detach().numpy())"
      ],
      "metadata": {
        "colab": {
          "base_uri": "https://localhost:8080/",
          "height": 293
        },
        "id": "ure0KCjNVx-k",
        "outputId": "26e47453-487c-4eff-f30a-5116578b1813"
      },
      "execution_count": 30,
      "outputs": [
        {
          "output_type": "execute_result",
          "data": {
            "text/plain": [
              "[<matplotlib.lines.Line2D at 0x7f54b62fd890>]"
            ]
          },
          "metadata": {},
          "execution_count": 30
        },
        {
          "output_type": "display_data",
          "data": {
            "text/plain": [
              "<Figure size 432x288 with 1 Axes>"
            ],
            "image/png": "[encoded data removed]"
          },
          "metadata": {
            "needs_background": "light"
          }
        }
      ]
    },
    {
      "cell_type": "code",
      "source": [
        "theta=model.weight.data.numpy()\n",
        "bias=model.bias.data.numpy()\n",
        "print(\"Weights: \",theta,\"\\nBias: \",bias)"
      ],
      "metadata": {
        "colab": {
          "base_uri": "https://localhost:8080/"
        },
        "id": "r21n7sUBWZtO",
        "outputId": "3a99d414-bd01-4127-d866-f0a5c965b3a0"
      },
      "execution_count": 31,
      "outputs": [
        {
          "output_type": "stream",
          "name": "stdout",
          "text": [
            "Weights:  [[-2.555405e+09]] \n",
            "Bias:  [-6.643098e+08]\n"
          ]
        }
      ]
    },
    {
      "cell_type": "code",
      "source": [],
      "metadata": {
        "id": "gN8CsmUfWomZ"
      },
      "execution_count": 20,
      "outputs": []
    },
    {
      "cell_type": "code",
      "source": [],
      "metadata": {
        "id": "sqv2ZePxrpA6"
      },
      "execution_count": null,
      "outputs": []
    }
  ]
}