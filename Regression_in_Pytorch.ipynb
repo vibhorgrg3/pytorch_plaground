{
  "nbformat": 4,
  "nbformat_minor": 0,
  "metadata": {
    "colab": {
      "provenance": []
    },
    "kernelspec": {
      "name": "python3",
      "display_name": "Python 3"
    },
    "language_info": {
      "name": "python"
    }
  },
  "cells": [
    {
      "cell_type": "code",
      "execution_count": 1,
      "metadata": {
        "id": "JVImaahfH0GT"
      },
      "outputs": [],
      "source": [
        "import numpy as np\n",
        "import torch\n",
        "import torch.nn as nn\n",
        "import matplotlib.pyplot as plt"
      ]
    },
    {
      "cell_type": "code",
      "source": [
        "x=np.random.random(100)*10-5\n",
        "y=0.5*x-1+np.random.random(100)"
      ],
      "metadata": {
        "id": "dvyygtKhH8za"
      },
      "execution_count": 28,
      "outputs": []
    },
    {
      "cell_type": "code",
      "source": [
        "X=np.array(x)\n",
        "Y=np.array(y)"
      ],
      "metadata": {
        "id": "eptzoL36IL_W"
      },
      "execution_count": 29,
      "outputs": []
    },
    {
      "cell_type": "code",
      "source": [
        "plt.scatter(X,Y)"
      ],
      "metadata": {
        "colab": {
          "base_uri": "https://localhost:8080/",
          "height": 282
        },
        "id": "XozDP4vEIR0_",
        "outputId": "47db98d9-888b-47ea-d1aa-44dbd29b1e3a"
      },
      "execution_count": 31,
      "outputs": [
        {
          "output_type": "execute_result",
          "data": {
            "text/plain": [
              "<matplotlib.collections.PathCollection at 0x7f80a02ae210>"
            ]
          },
          "metadata": {},
          "execution_count": 31
        },
        {
          "output_type": "display_data",
          "data": {
            "text/plain": [
              "<Figure size 432x288 with 1 Axes>"
            ],
            "image/png": "[encoded data removed]"
          },
          "metadata": {
            "needs_background": "light"
          }
        }
      ]
    },
    {
      "cell_type": "code",
      "source": [
        "loss=nn.MSELoss()\n",
        "model=nn.Linear(1,1)\n",
        "optimizer=torch.optim.SGD(model.parameters(),lr=0.1)\n",
        "\n",
        "N=len(X)\n",
        "X=X.reshape(N,1)\n",
        "Y=Y.reshape(N,1)\n",
        "\n"
      ],
      "metadata": {
        "id": "x15iURsLTFrp"
      },
      "execution_count": 32,
      "outputs": []
    },
    {
      "cell_type": "code",
      "source": [
        "inputs=torch.from_numpy(X.astype(np.float32))\n",
        "targets=torch.from_numpy(Y.astype(np.float32))"
      ],
      "metadata": {
        "id": "pn9rgizgT90U"
      },
      "execution_count": 33,
      "outputs": []
    },
    {
      "cell_type": "code",
      "source": [
        "n=30\n",
        "losses=[]\n",
        "for i in range(n):\n",
        "  optimizer.zero_grad()\n",
        "  outputs=model(inputs)\n",
        "  loss_calc=loss(outputs,targets)\n",
        "  losses.append(loss_calc.item())\n",
        "\n",
        "  loss_calc.backward()\n",
        "  optimizer.step()\n",
        "\n",
        "  plt.plot(inputs.detach().numpy(),outputs.detach().numpy())\n",
        "  print(\"loss: \",loss_calc.item())"
      ],
      "metadata": {
        "colab": {
          "base_uri": "https://localhost:8080/",
          "height": 786
        },
        "id": "v0DuzuUcUaw4",
        "outputId": "383f2693-ae14-4034-d834-8dcd94b9848c"
      },
      "execution_count": 34,
      "outputs": [
        {
          "output_type": "stream",
          "name": "stdout",
          "text": [
            "loss:  7.506523609161377\n",
            "loss:  3.3033945560455322\n",
            "loss:  1.4789677858352661\n",
            "loss:  0.6868326663970947\n",
            "loss:  0.3427620828151703\n",
            "loss:  0.19322334229946136\n",
            "loss:  0.1281747967004776\n",
            "loss:  0.09984280914068222\n",
            "loss:  0.08747969567775726\n",
            "loss:  0.08207011222839355\n",
            "loss:  0.07969372719526291\n",
            "loss:  0.07864384353160858\n",
            "loss:  0.07817624509334564\n",
            "loss:  0.0779656246304512\n",
            "loss:  0.07786927372217178\n",
            "loss:  0.07782429456710815\n",
            "loss:  0.07780273258686066\n",
            "loss:  0.07779207825660706\n",
            "loss:  0.07778660953044891\n",
            "loss:  0.0777837261557579\n",
            "loss:  0.07778211683034897\n",
            "loss:  0.07778120040893555\n",
            "loss:  0.07778067141771317\n",
            "loss:  0.0777803435921669\n",
            "loss:  0.07778014987707138\n",
            "loss:  0.07778002321720123\n",
            "loss:  0.07777994871139526\n",
            "loss:  0.07777990400791168\n",
            "loss:  0.0777798667550087\n",
            "loss:  0.0777798518538475\n"
          ]
        },
        {
          "output_type": "display_data",
          "data": {
            "text/plain": [
              "<Figure size 432x288 with 1 Axes>"
            ],
            "image/png": "[encoded data removed]"
          },
          "metadata": {
            "needs_background": "light"
          }
        }
      ]
    },
    {
      "cell_type": "code",
      "source": [
        "plt.plot(losses)"
      ],
      "metadata": {
        "colab": {
          "base_uri": "https://localhost:8080/",
          "height": 282
        },
        "id": "py-ckEZMVJbn",
        "outputId": "a6d45a10-3cfa-4d71-da4d-0b635a533e67"
      },
      "execution_count": 35,
      "outputs": [
        {
          "output_type": "execute_result",
          "data": {
            "text/plain": [
              "[<matplotlib.lines.Line2D at 0x7f80a0398a10>]"
            ]
          },
          "metadata": {},
          "execution_count": 35
        },
        {
          "output_type": "display_data",
          "data": {
            "text/plain": [
              "<Figure size 432x288 with 1 Axes>"
            ],
            "image/png": "[encoded data removed]"
          },
          "metadata": {
            "needs_background": "light"
          }
        }
      ]
    },
    {
      "cell_type": "code",
      "source": [
        "plt.plot(inputs.detach().numpy(),outputs.detach().numpy())"
      ],
      "metadata": {
        "colab": {
          "base_uri": "https://localhost:8080/",
          "height": 282
        },
        "id": "ure0KCjNVx-k",
        "outputId": "a3e4efae-f68a-4a5a-da07-48b709930f47"
      },
      "execution_count": 37,
      "outputs": [
        {
          "output_type": "execute_result",
          "data": {
            "text/plain": [
              "[<matplotlib.lines.Line2D at 0x7f80a0253210>]"
            ]
          },
          "metadata": {},
          "execution_count": 37
        },
        {
          "output_type": "display_data",
          "data": {
            "text/plain": [
              "<Figure size 432x288 with 1 Axes>"
            ],
            "image/png": "[encoded data removed]"
          },
          "metadata": {
            "needs_background": "light"
          }
        }
      ]
    },
    {
      "cell_type": "code",
      "source": [
        "theta=model.weight.data.numpy()\n",
        "bias=model.bias.data.numpy()\n",
        "print(\"Weights: \",theta,\"\\nBias: \",bias)"
      ],
      "metadata": {
        "colab": {
          "base_uri": "https://localhost:8080/"
        },
        "id": "r21n7sUBWZtO",
        "outputId": "b8b4ae66-9c35-4fc5-cb31-cd5170c52346"
      },
      "execution_count": 38,
      "outputs": [
        {
          "output_type": "stream",
          "name": "stdout",
          "text": [
            "Weights:  [[0.49543202]] \n",
            "Bias:  [-0.5269254]\n"
          ]
        }
      ]
    },
    {
      "cell_type": "code",
      "source": [],
      "metadata": {
        "id": "gN8CsmUfWomZ"
      },
      "execution_count": null,
      "outputs": []
    }
  ]
}